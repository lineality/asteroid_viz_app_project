{
 "cells": [
  {
   "cell_type": "code",
   "execution_count": 36,
   "metadata": {},
   "outputs": [],
   "source": [
    "# Asteroid Data for Project"
   ]
  },
  {
   "cell_type": "code",
   "execution_count": 37,
   "metadata": {},
   "outputs": [],
   "source": [
    "# data downloaded as CSV from \n",
    "# https://ssd.jpl.nasa.gov/sbdb_query.cgi#x"
   ]
  },
  {
   "cell_type": "code",
   "execution_count": 46,
   "metadata": {},
   "outputs": [],
   "source": [
    "#so more head displays\n",
    "#override display option\n",
    "pd.set_option('display.max_rows', 500)\n",
    "pd.set_option('display.max_columns', 500)\n",
    "pd.set_option('display.width', 1000)"
   ]
  },
  {
   "cell_type": "code",
   "execution_count": 47,
   "metadata": {},
   "outputs": [],
   "source": [
    "import pandas as pd"
   ]
  },
  {
   "cell_type": "code",
   "execution_count": 48,
   "metadata": {},
   "outputs": [],
   "source": [
    "df = pd.read_csv(r\"C:\\Users\\linea\\Downloads\\data\\Asteroid data\\asteroid_albedo_1.csv\")"
   ]
  },
  {
   "cell_type": "code",
   "execution_count": 55,
   "metadata": {},
   "outputs": [
    {
     "data": {
      "text/plain": [
       "(828759, 33)"
      ]
     },
     "execution_count": 55,
     "metadata": {},
     "output_type": "execute_result"
    }
   ],
   "source": [
    "df.shape"
   ]
  },
  {
   "cell_type": "code",
   "execution_count": 50,
   "metadata": {},
   "outputs": [],
   "source": [
    "#df = df.dropna()"
   ]
  },
  {
   "cell_type": "code",
   "execution_count": 51,
   "metadata": {
    "scrolled": true
   },
   "outputs": [
    {
     "data": {
      "text/plain": [
       "id                     0\n",
       "full_name              0\n",
       "a                      2\n",
       "e                      0\n",
       "i                      0\n",
       "om                     0\n",
       "w                      0\n",
       "q                      0\n",
       "ad                     4\n",
       "per_y                  1\n",
       "data_arc           11624\n",
       "condition_code      1264\n",
       "n_obs_used             0\n",
       "n_del_obs_used    827927\n",
       "n_dop_obs_used    827927\n",
       "H                   3173\n",
       "diameter          689504\n",
       "extent            828741\n",
       "albedo            690839\n",
       "rot_per           809963\n",
       "GM                828745\n",
       "BV                827738\n",
       "UB                827780\n",
       "IR                828758\n",
       "spec_B            827093\n",
       "spec_T            827779\n",
       "albedo.1          690839\n",
       "rot_per.1         809963\n",
       "id.1                   0\n",
       "spkid                  0\n",
       "full_name.1            0\n",
       "pdes                   0\n",
       "name              806792\n",
       "dtype: int64"
      ]
     },
     "execution_count": 51,
     "metadata": {},
     "output_type": "execute_result"
    }
   ],
   "source": [
    "df.isna().sum()"
   ]
  },
  {
   "cell_type": "code",
   "execution_count": 1,
   "metadata": {},
   "outputs": [
    {
     "data": {
      "text/plain": [
       "137920"
      ]
     },
     "execution_count": 1,
     "metadata": {},
     "output_type": "execute_result"
    }
   ],
   "source": [
    "828759-690839"
   ]
  },
  {
   "cell_type": "code",
   "execution_count": 2,
   "metadata": {},
   "outputs": [
    {
     "data": {
      "text/plain": [
       "139255"
      ]
     },
     "execution_count": 2,
     "metadata": {},
     "output_type": "execute_result"
    }
   ],
   "source": [
    "828759-689504"
   ]
  },
  {
   "cell_type": "markdown",
   "metadata": {},
   "source": [
    "#Note, relating the the above two cells: diameter and albedo data should be available. As for other spectra...digging."
   ]
  },
  {
   "cell_type": "code",
   "execution_count": 54,
   "metadata": {
    "scrolled": true
   },
   "outputs": [
    {
     "data": {
      "text/html": [
       "<div>\n",
       "<style scoped>\n",
       "    .dataframe tbody tr th:only-of-type {\n",
       "        vertical-align: middle;\n",
       "    }\n",
       "\n",
       "    .dataframe tbody tr th {\n",
       "        vertical-align: top;\n",
       "    }\n",
       "\n",
       "    .dataframe thead th {\n",
       "        text-align: right;\n",
       "    }\n",
       "</style>\n",
       "<table border=\"1\" class=\"dataframe\">\n",
       "  <thead>\n",
       "    <tr style=\"text-align: right;\">\n",
       "      <th></th>\n",
       "      <th>id</th>\n",
       "      <th>full_name</th>\n",
       "      <th>a</th>\n",
       "      <th>e</th>\n",
       "      <th>i</th>\n",
       "      <th>om</th>\n",
       "      <th>w</th>\n",
       "      <th>q</th>\n",
       "      <th>ad</th>\n",
       "      <th>per_y</th>\n",
       "      <th>data_arc</th>\n",
       "      <th>condition_code</th>\n",
       "      <th>n_obs_used</th>\n",
       "      <th>n_del_obs_used</th>\n",
       "      <th>n_dop_obs_used</th>\n",
       "      <th>H</th>\n",
       "      <th>diameter</th>\n",
       "      <th>extent</th>\n",
       "      <th>albedo</th>\n",
       "      <th>rot_per</th>\n",
       "      <th>GM</th>\n",
       "      <th>BV</th>\n",
       "      <th>UB</th>\n",
       "      <th>IR</th>\n",
       "      <th>spec_B</th>\n",
       "      <th>spec_T</th>\n",
       "      <th>albedo.1</th>\n",
       "      <th>rot_per.1</th>\n",
       "      <th>id.1</th>\n",
       "      <th>spkid</th>\n",
       "      <th>full_name.1</th>\n",
       "      <th>pdes</th>\n",
       "      <th>name</th>\n",
       "    </tr>\n",
       "  </thead>\n",
       "  <tbody>\n",
       "    <tr>\n",
       "      <th>0</th>\n",
       "      <td>a0000001</td>\n",
       "      <td>1 Ceres</td>\n",
       "      <td>2.769165</td>\n",
       "      <td>0.076009</td>\n",
       "      <td>10.594067</td>\n",
       "      <td>80.305532</td>\n",
       "      <td>73.597694</td>\n",
       "      <td>2.558684</td>\n",
       "      <td>2.979647</td>\n",
       "      <td>4.608202</td>\n",
       "      <td>8822.0</td>\n",
       "      <td>0</td>\n",
       "      <td>1002</td>\n",
       "      <td>60.0</td>\n",
       "      <td>0.0</td>\n",
       "      <td>3.34</td>\n",
       "      <td>939.4</td>\n",
       "      <td>964.4 x 964.2 x 891.8</td>\n",
       "      <td>0.090</td>\n",
       "      <td>9.07417</td>\n",
       "      <td>62.6284</td>\n",
       "      <td>0.713</td>\n",
       "      <td>0.426</td>\n",
       "      <td>NaN</td>\n",
       "      <td>C</td>\n",
       "      <td>G</td>\n",
       "      <td>0.090</td>\n",
       "      <td>9.07417</td>\n",
       "      <td>a0000001</td>\n",
       "      <td>2000001</td>\n",
       "      <td>1 Ceres</td>\n",
       "      <td>1</td>\n",
       "      <td>Ceres</td>\n",
       "    </tr>\n",
       "    <tr>\n",
       "      <th>1</th>\n",
       "      <td>a0000002</td>\n",
       "      <td>2 Pallas</td>\n",
       "      <td>2.772466</td>\n",
       "      <td>0.230337</td>\n",
       "      <td>34.836234</td>\n",
       "      <td>173.080063</td>\n",
       "      <td>310.048857</td>\n",
       "      <td>2.133865</td>\n",
       "      <td>3.411067</td>\n",
       "      <td>4.616444</td>\n",
       "      <td>72318.0</td>\n",
       "      <td>0</td>\n",
       "      <td>8490</td>\n",
       "      <td>NaN</td>\n",
       "      <td>NaN</td>\n",
       "      <td>4.13</td>\n",
       "      <td>545</td>\n",
       "      <td>582x556x500</td>\n",
       "      <td>0.101</td>\n",
       "      <td>7.81320</td>\n",
       "      <td>14.3000</td>\n",
       "      <td>0.635</td>\n",
       "      <td>0.284</td>\n",
       "      <td>NaN</td>\n",
       "      <td>B</td>\n",
       "      <td>B</td>\n",
       "      <td>0.101</td>\n",
       "      <td>7.81320</td>\n",
       "      <td>a0000002</td>\n",
       "      <td>2000002</td>\n",
       "      <td>2 Pallas</td>\n",
       "      <td>2</td>\n",
       "      <td>Pallas</td>\n",
       "    </tr>\n",
       "    <tr>\n",
       "      <th>2</th>\n",
       "      <td>a0000003</td>\n",
       "      <td>3 Juno</td>\n",
       "      <td>2.669150</td>\n",
       "      <td>0.256942</td>\n",
       "      <td>12.988919</td>\n",
       "      <td>169.852760</td>\n",
       "      <td>248.138626</td>\n",
       "      <td>1.983332</td>\n",
       "      <td>3.354967</td>\n",
       "      <td>4.360814</td>\n",
       "      <td>72684.0</td>\n",
       "      <td>0</td>\n",
       "      <td>7104</td>\n",
       "      <td>NaN</td>\n",
       "      <td>NaN</td>\n",
       "      <td>5.33</td>\n",
       "      <td>246.596</td>\n",
       "      <td>NaN</td>\n",
       "      <td>0.214</td>\n",
       "      <td>7.21000</td>\n",
       "      <td>NaN</td>\n",
       "      <td>0.824</td>\n",
       "      <td>0.433</td>\n",
       "      <td>NaN</td>\n",
       "      <td>Sk</td>\n",
       "      <td>S</td>\n",
       "      <td>0.214</td>\n",
       "      <td>7.21000</td>\n",
       "      <td>a0000003</td>\n",
       "      <td>2000003</td>\n",
       "      <td>3 Juno</td>\n",
       "      <td>3</td>\n",
       "      <td>Juno</td>\n",
       "    </tr>\n",
       "  </tbody>\n",
       "</table>\n",
       "</div>"
      ],
      "text/plain": [
       "         id      full_name         a         e          i          om           w         q        ad     per_y  data_arc condition_code  n_obs_used  n_del_obs_used  n_dop_obs_used     H diameter                 extent  albedo  rot_per       GM     BV     UB  IR spec_B spec_T  albedo.1  rot_per.1      id.1    spkid    full_name.1 pdes    name\n",
       "0  a0000001        1 Ceres  2.769165  0.076009  10.594067   80.305532   73.597694  2.558684  2.979647  4.608202    8822.0              0        1002            60.0             0.0  3.34    939.4  964.4 x 964.2 x 891.8   0.090  9.07417  62.6284  0.713  0.426 NaN      C      G     0.090    9.07417  a0000001  2000001        1 Ceres    1   Ceres\n",
       "1  a0000002       2 Pallas  2.772466  0.230337  34.836234  173.080063  310.048857  2.133865  3.411067  4.616444   72318.0              0        8490             NaN             NaN  4.13      545            582x556x500   0.101  7.81320  14.3000  0.635  0.284 NaN      B      B     0.101    7.81320  a0000002  2000002       2 Pallas    2  Pallas\n",
       "2  a0000003         3 Juno  2.669150  0.256942  12.988919  169.852760  248.138626  1.983332  3.354967  4.360814   72684.0              0        7104             NaN             NaN  5.33  246.596                    NaN   0.214  7.21000      NaN  0.824  0.433 NaN     Sk      S     0.214    7.21000  a0000003  2000003         3 Juno    3    Juno"
      ]
     },
     "execution_count": 54,
     "metadata": {},
     "output_type": "execute_result"
    }
   ],
   "source": [
    "df.head(3)"
   ]
  },
  {
   "cell_type": "code",
   "execution_count": 53,
   "metadata": {},
   "outputs": [
    {
     "data": {
      "text/plain": [
       "Text(0.5, 1.0, 'albedo and om')"
      ]
     },
     "execution_count": 53,
     "metadata": {},
     "output_type": "execute_result"
    },
    {
     "data": {
      "image/png": "[encoded data removed]",
      "text/plain": [
       "<Figure size 432x288 with 1 Axes>"
      ]
     },
     "metadata": {
      "needs_background": "light"
     },
     "output_type": "display_data"
    }
   ],
   "source": [
    "#Scatterplot\n",
    "plotae = df.plot.scatter('albedo.1', 'om');\n",
    "plotae.set_ylabel('om')\n",
    "plotae.set_xlabel('albedo')\n",
    "plotae.set_title('albedo and om')"
   ]
  },
  {
   "cell_type": "code",
   "execution_count": null,
   "metadata": {},
   "outputs": [],
   "source": []
  },
  {
   "cell_type": "code",
   "execution_count": null,
   "metadata": {},
   "outputs": [],
   "source": []
  },
  {
   "cell_type": "code",
   "execution_count": null,
   "metadata": {},
   "outputs": [],
   "source": []
  },
  {
   "cell_type": "code",
   "execution_count": null,
   "metadata": {},
   "outputs": [],
   "source": []
  },
  {
   "cell_type": "code",
   "execution_count": null,
   "metadata": {},
   "outputs": [],
   "source": []
  }
 ],
 "metadata": {
  "kernelspec": {
   "display_name": "Python 3",
   "language": "python",
   "name": "python3"
  },
  "language_info": {
   "codemirror_mode": {
    "name": "ipython",
    "version": 3
   },
   "file_extension": ".py",
   "mimetype": "text/x-python",
   "name": "python",
   "nbconvert_exporter": "python",
   "pygments_lexer": "ipython3",
   "version": "3.7.4"
  }
 },
 "nbformat": 4,
 "nbformat_minor": 2
}
